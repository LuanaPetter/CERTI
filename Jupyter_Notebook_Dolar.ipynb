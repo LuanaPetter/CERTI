{
 "cells": [
  {
   "cell_type": "code",
   "execution_count": 1,
   "metadata": {},
   "outputs": [],
   "source": [
    "def image(title, name):\n",
    "    cv2.imshow(title, name)\n",
    "    cv2.waitKey(0)"
   ]
  },
  {
   "cell_type": "code",
   "execution_count": 18,
   "metadata": {},
   "outputs": [],
   "source": [
    "# HoughCircles function\n",
    "def houghCircles(img, or_img):\n",
    "    #Applying Grayscale filter to image\n",
    "    gray_img = cv2.cvtColor(img, cv2.COLOR_BGR2GRAY)\n",
    "    circles = cv2.HoughCircles(gray_img,cv2.HOUGH_GRADIENT,1,30,param1=40,param2=30,minRadius=52,maxRadius=110)\n",
    "    circles = np.uint16(np.around(circles))\n",
    "    for i in circles[0,:]:\n",
    "        # draw the outer circle\n",
    "        cv2.circle(or_img,(i[0],i[1]),i[2],(0,255,0),2)\n",
    "        # draw the center of the circle\n",
    "        cv2.circle(or_img,(i[0],i[1]),2,(255,0,0),2)\n",
    "    number=circles.shape[1]\n",
    "    return number"
   ]
  },
  {
   "cell_type": "code",
   "execution_count": 3,
   "metadata": {},
   "outputs": [],
   "source": [
    "#importing libraries\n",
    "import numpy as np\n",
    "import cv2"
   ]
  },
  {
   "cell_type": "code",
   "execution_count": 4,
   "metadata": {},
   "outputs": [],
   "source": [
    "#Reading the image\n",
    "img = cv2.imread('./dolar_original.png') "
   ]
  },
  {
   "cell_type": "code",
   "execution_count": 5,
   "metadata": {},
   "outputs": [],
   "source": [
    "#Result 1\n",
    "image('dolar_original.jpg', img)"
   ]
  },
  {
   "cell_type": "code",
   "execution_count": 6,
   "metadata": {},
   "outputs": [],
   "source": [
    "#Applying Grayscale filter to image\n",
    "gray_img = cv2.cvtColor(img, cv2.COLOR_BGR2GRAY)"
   ]
  },
  {
   "cell_type": "code",
   "execution_count": 7,
   "metadata": {},
   "outputs": [],
   "source": [
    "#Result 2\n",
    "image('Gray', gray_img)"
   ]
  },
  {
   "cell_type": "code",
   "execution_count": 8,
   "metadata": {},
   "outputs": [],
   "source": [
    "#Converting the image to a binary standard using threshold\n",
    "ret, thresh = cv2.threshold(gray_img, 55, 240, cv2.THRESH_BINARY_INV)"
   ]
  },
  {
   "cell_type": "code",
   "execution_count": 9,
   "metadata": {},
   "outputs": [],
   "source": [
    "#Result 3\n",
    "image('Threshold', thresh)"
   ]
  },
  {
   "cell_type": "code",
   "execution_count": 10,
   "metadata": {},
   "outputs": [],
   "source": [
    "#Morphological filter\n",
    "kernel = np.ones((3, 3), np.uint16)\n",
    "morphology = cv2.morphologyEx(thresh, cv2.MORPH_CLOSE, kernel, iterations=3)\n",
    "#Result 4\n",
    "image('Threshold', morphology)"
   ]
  },
  {
   "cell_type": "code",
   "execution_count": 11,
   "metadata": {},
   "outputs": [],
   "source": [
    "# SimpleBlobDetector\n",
    "# Setup SimpleBlobDetector parameters.\n",
    "params = cv2.SimpleBlobDetector_Params()\n",
    "\n",
    "#params.minDistBetweenBlobs = 120\n",
    "params.filterByInertia = False\n",
    "params.filterByConvexity = True\n",
    "params.minConvexity = 0.9\n",
    "params.maxConvexity = 1.0\n",
    "params.filterByColor = False\n",
    "params.filterByCircularity = False\n",
    "params.filterByArea = True\n",
    "params.maxArea = 50000\n",
    "params.minThreshold = 150\n",
    "params.maxThreshold = 230"
   ]
  },
  {
   "cell_type": "code",
   "execution_count": 12,
   "metadata": {},
   "outputs": [],
   "source": [
    "detector = cv2.SimpleBlobDetector_create(params)\n",
    "\n",
    "# Detect blobs.\n",
    "keypoints = detector.detect(morphology)\n",
    "numbers = len(keypoints)"
   ]
  },
  {
   "cell_type": "code",
   "execution_count": 13,
   "metadata": {},
   "outputs": [],
   "source": [
    "# Draw detected blobs as red circles.\n",
    "im_with_keypoints = cv2.drawKeypoints(morphology, keypoints, np.array([]), (0,0,255), cv2.DRAW_MATCHES_FLAGS_DRAW_RICH_KEYPOINTS)"
   ]
  },
  {
   "cell_type": "code",
   "execution_count": 14,
   "metadata": {},
   "outputs": [],
   "source": [
    "#Result 5\n",
    "image('Result_5', im_with_keypoints)"
   ]
  },
  {
   "cell_type": "code",
   "execution_count": 15,
   "metadata": {},
   "outputs": [
    {
     "name": "stdout",
     "output_type": "stream",
     "text": [
      "Number of coins detected =  9\n"
     ]
    }
   ],
   "source": [
    "#Result 6\n",
    "print('Number of coins detected = ', numbers)"
   ]
  },
  {
   "cell_type": "code",
   "execution_count": 16,
   "metadata": {},
   "outputs": [],
   "source": [
    "#Applying the Circle function to draw the centers and edges of the coins on the original image.\n",
    "num = houghCircles(im_with_keypoints, img)"
   ]
  },
  {
   "cell_type": "code",
   "execution_count": 17,
   "metadata": {},
   "outputs": [
    {
     "data": {
      "text/plain": [
       "True"
      ]
     },
     "execution_count": 17,
     "metadata": {},
     "output_type": "execute_result"
    }
   ],
   "source": [
    "#Result 7\n",
    "image('Result', img)\n",
    "#Saving the final image\n",
    "cv2.imwrite('./image_result/dolar_result.png',img)"
   ]
  },
  {
   "cell_type": "code",
   "execution_count": null,
   "metadata": {},
   "outputs": [],
   "source": []
  },
  {
   "cell_type": "code",
   "execution_count": null,
   "metadata": {},
   "outputs": [],
   "source": []
  }
 ],
 "metadata": {
  "kernelspec": {
   "display_name": "Python 3",
   "language": "python",
   "name": "python3"
  },
  "language_info": {
   "codemirror_mode": {
    "name": "ipython",
    "version": 3
   },
   "file_extension": ".py",
   "mimetype": "text/x-python",
   "name": "python",
   "nbconvert_exporter": "python",
   "pygments_lexer": "ipython3",
   "version": "3.8.3"
  }
 },
 "nbformat": 4,
 "nbformat_minor": 2
}
